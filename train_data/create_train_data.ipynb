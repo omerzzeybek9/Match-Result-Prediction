{
 "cells": [
  {
   "cell_type": "markdown",
   "metadata": {},
   "source": [
    "Create Train Data"
   ]
  },
  {
   "cell_type": "code",
   "execution_count": null,
   "metadata": {},
   "outputs": [],
   "source": [
    "import pandas as pd\n",
    "\n",
    "#Read the data from the csv file\n",
    "pl_data = pd.read_csv(\"../intermediate_data/leagues/premier_league_stats.csv\")\n",
    "eredivise_data = pd.read_csv(\"../intermediate_data/leagues/eredivise_league_stats.csv\")\n",
    "laliga_data = pd.read_csv(\"../intermediate_data/leagues/laliga_league_stats.csv\")\n",
    "ligue1_data = pd.read_csv(\"../intermediate_data/leagues/ligue1_league_stats.csv\")\n",
    "seriea_data = pd.read_csv(\"../intermediate_data/leagues/seria_league_stats.csv\")\n",
    "bundesliga_data = pd.read_csv(\"../intermediate_data/leagues/bundesliga_league_stats.csv\")\n",
    "cl_data = pd.read_csv(\"../intermediate_data/cl/champions_league_stats.csv\")\n",
    "\n",
    "#Fixture data\n",
    "pl_fixtures = pd.read_csv(\"../fixture/data/fixtures_pl.csv\")\n",
    "eredivise_fixtures = pd.read_csv(\"../fixture/data/fixtures_eredivise.csv\")\n",
    "laliga_fixtures = pd.read_csv(\"../fixture/data/fixtures_laliga.csv\")\n",
    "ligue1_fixtures = pd.read_csv(\"../fixture/data/fixtures_ligue1.csv\")\n",
    "seriea_fixtures = pd.read_csv(\"../fixture/data/fixtures_seriea.csv\")\n",
    "bundesliga_fixtures = pd.read_csv(\"../fixture/data/fixtures_bundesliga.csv\")\n",
    "cl_fixtures = pd.read_csv(\"../fixture/data/fixtures_cl.csv\")\n"
   ]
  },
  {
   "cell_type": "code",
   "execution_count": null,
   "metadata": {},
   "outputs": [],
   "source": [
    "pl_train_data = pl_fixtures.merge(pl_data, left_on=\"Home Team\", right_on=\"Team\", how=\"left\", suffixes=(\"\", \"_Home\")) \\\n",
    "                   .drop(columns=[\"Team\"]) \\\n",
    "                   .merge(pl_data, left_on=\"Away Team\", right_on=\"Team\", how=\"left\", suffixes=(\"\", \"_Away\")) \\\n",
    "                   .drop(columns=[\"Team\"])\n",
    "\n",
    "eredivise_train_data = eredivise_fixtures.merge(eredivise_data, left_on=\"Home Team\", right_on=\"Team\", how=\"left\", suffixes=(\"\", \"_Home\")) \\\n",
    "                    .drop(columns=[\"Team\"]) \\\n",
    "                    .merge(eredivise_data, left_on=\"Away Team\", right_on=\"Team\", how=\"left\", suffixes=(\"\", \"_Away\")) \\\n",
    "                    .drop(columns=[\"Team\"])\n",
    "\n",
    "laliga_train_data = laliga_fixtures.merge(laliga_data, left_on=\"Home Team\", right_on=\"Team\", how=\"left\", suffixes=(\"\", \"_Home\")) \\\n",
    "                    .drop(columns=[\"Team\"]) \\\n",
    "                    .merge(laliga_data, left_on=\"Away Team\", right_on=\"Team\", how=\"left\", suffixes=(\"\", \"_Away\")) \\\n",
    "                    .drop(columns=[\"Team\"])\n",
    "\n",
    "ligue1_train_data = ligue1_fixtures.merge(ligue1_data, left_on=\"Home Team\", right_on=\"Team\", how=\"left\", suffixes=(\"\", \"_Home\")) \\\n",
    "                    .drop(columns=[\"Team\"]) \\\n",
    "                    .merge(ligue1_data, left_on=\"Away Team\", right_on=\"Team\", how=\"left\", suffixes=(\"\", \"_Away\")) \\\n",
    "                    .drop(columns=[\"Team\"])\n",
    "\n",
    "seriea_train_data = seriea_fixtures.merge(seriea_data, left_on=\"Home Team\", right_on=\"Team\", how=\"left\", suffixes=(\"\", \"_Home\")) \\\n",
    "                    .drop(columns=[\"Team\"]) \\\n",
    "                    .merge(seriea_data, left_on=\"Away Team\", right_on=\"Team\", how=\"left\", suffixes=(\"\", \"_Away\")) \\\n",
    "                    .drop(columns=[\"Team\"])\n",
    "\n",
    "bundesliga_train_data = bundesliga_fixtures.merge(bundesliga_data, left_on=\"Home Team\", right_on=\"Team\", how=\"left\", suffixes=(\"\", \"_Home\")) \\\n",
    "                    .drop(columns=[\"Team\"]) \\\n",
    "                    .merge(bundesliga_data, left_on=\"Away Team\", right_on=\"Team\", how=\"left\", suffixes=(\"\", \"_Away\")) \\\n",
    "                    .drop(columns=[\"Team\"])\n",
    "\n",
    "cl_train_data = cl_fixtures.merge(cl_data, left_on=\"Home Team\", right_on=\"Team\", how=\"left\", suffixes=(\"\", \"_Home\")) \\\n",
    "                    .drop(columns=[\"Team\"]) \\\n",
    "                    .merge(cl_data, left_on=\"Away Team\", right_on=\"Team\", how=\"left\", suffixes=(\"\", \"_Away\")) \\\n",
    "                    .drop(columns=[\"Team\"])"
   ]
  },
  {
   "cell_type": "code",
   "execution_count": null,
   "metadata": {},
   "outputs": [],
   "source": [
    "pl_train_data.drop(columns=[\"Matchday\", \"Date\"], inplace=True)\n",
    "eredivise_train_data.drop(columns=[\"Matchday\", \"Date\"], inplace=True)\n",
    "laliga_train_data.drop(columns=[\"Matchday\", \"Date\"], inplace=True)\n",
    "ligue1_train_data.drop(columns=[\"Matchday\", \"Date\"], inplace=True)\n",
    "seriea_train_data.drop(columns=[\"Matchday\", \"Date\"], inplace=True)\n",
    "bundesliga_train_data.drop(columns=[\"Matchday\", \"Date\"], inplace=True)\n",
    "cl_train_data.drop(columns=[\"Matchday\", \"Date\"], inplace=True)"
   ]
  },
  {
   "cell_type": "code",
   "execution_count": null,
   "metadata": {},
   "outputs": [],
   "source": [
    "pl_train_data.dropna(subset=[\"Home Score\", \"Away Score\"], inplace=True)\n",
    "eredivise_train_data.dropna(subset=[\"Home Score\", \"Away Score\"], inplace=True)\n",
    "laliga_train_data.dropna(subset=[\"Home Score\", \"Away Score\"], inplace=True)\n",
    "ligue1_train_data.dropna(subset=[\"Home Score\", \"Away Score\"], inplace=True)\n",
    "seriea_train_data.dropna(subset=[\"Home Score\", \"Away Score\"], inplace=True)\n",
    "bundesliga_train_data.dropna(subset=[\"Home Score\", \"Away Score\"], inplace=True)\n",
    "cl_train_data.dropna(subset=[\"Home Score\", \"Away Score\"], inplace=True)"
   ]
  },
  {
   "cell_type": "code",
   "execution_count": null,
   "metadata": {},
   "outputs": [],
   "source": [
    "pl_train_data.to_csv(\"data/premier_league_train.csv\", index=False)\n",
    "eredivise_train_data.to_csv(\"data/eredivise_train.csv\", index=False)\n",
    "laliga_train_data.to_csv(\"data/laliga_train.csv\", index=False)\n",
    "ligue1_train_data.to_csv(\"data/ligue1_train.csv\", index=False)\n",
    "seriea_train_data.to_csv(\"data/seriea_train.csv\", index=False)\n",
    "bundesliga_train_data.to_csv(\"data/bundesliga_train.csv\", index=False)\n",
    "cl_train_data.to_csv(\"data/cl_train.csv\", index=False)"
   ]
  }
 ],
 "metadata": {
  "kernelspec": {
   "display_name": "base",
   "language": "python",
   "name": "python3"
  },
  "language_info": {
   "codemirror_mode": {
    "name": "ipython",
    "version": 3
   },
   "file_extension": ".py",
   "mimetype": "text/x-python",
   "name": "python",
   "nbconvert_exporter": "python",
   "pygments_lexer": "ipython3",
   "version": "3.12.3"
  }
 },
 "nbformat": 4,
 "nbformat_minor": 2
}
