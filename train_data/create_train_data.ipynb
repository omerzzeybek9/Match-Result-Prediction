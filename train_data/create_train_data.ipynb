{
 "cells": [
  {
   "cell_type": "markdown",
   "metadata": {},
   "source": [
    "Create Train Data"
   ]
  },
  {
   "cell_type": "code",
   "execution_count": 1,
   "metadata": {},
   "outputs": [],
   "source": [
    "import pandas as pd\n",
    "\n",
    "#Read the data from the csv file\n",
    "pl_data = pd.read_csv(\"../intermediate_data/leagues/premier_league_stats.csv\")\n",
    "eredivise_data = pd.read_csv(\"../intermediate_data/leagues/eredivise_league_stats.csv\")\n",
    "laliga_data = pd.read_csv(\"../intermediate_data/leagues/laliga_league_stats.csv\")\n",
    "ligue1_data = pd.read_csv(\"../intermediate_data/leagues/ligue1_league_stats.csv\")\n",
    "seriea_data = pd.read_csv(\"../intermediate_data/leagues/seria_league_stats.csv\")\n",
    "bundesliga_data = pd.read_csv(\"../intermediate_data/leagues/bundesliga_league_stats.csv\")\n",
    "cl_data = pd.read_csv(\"../intermediate_data/cl/champions_league_stats.csv\")\n",
    "\n",
    "#Fixture data\n",
    "pl_fixtures = pd.read_csv(\"../fixture/data/fixtures_pl.csv\")\n",
    "eredivise_fixtures = pd.read_csv(\"../fixture/data/fixtures_eredivise.csv\")\n",
    "laliga_fixtures = pd.read_csv(\"../fixture/data/fixtures_laliga.csv\")\n",
    "ligue1_fixtures = pd.read_csv(\"../fixture/data/fixtures_ligue1.csv\")\n",
    "seriea_fixtures = pd.read_csv(\"../fixture/data/fixtures_seriea.csv\")\n",
    "bundesliga_fixtures = pd.read_csv(\"../fixture/data/fixtures_bundesliga.csv\")\n",
    "cl_fixtures = pd.read_csv(\"../fixture/data/fixtures_cl.csv\")\n"
   ]
  },
  {
   "cell_type": "code",
   "execution_count": 2,
   "metadata": {},
   "outputs": [],
   "source": [
    "pl_train_data = pl_fixtures.merge(pl_data, left_on=\"Home Team\", right_on=\"Team\", how=\"left\", suffixes=(\"\", \"_Home\")) \\\n",
    "                   .drop(columns=[\"Team\"]) \\\n",
    "                   .merge(pl_data, left_on=\"Away Team\", right_on=\"Team\", how=\"left\", suffixes=(\"\", \"_Away\")) \\\n",
    "                   .drop(columns=[\"Team\"])\n",
    "\n",
    "eredivise_train_data = eredivise_fixtures.merge(eredivise_data, left_on=\"Home Team\", right_on=\"Team\", how=\"left\", suffixes=(\"\", \"_Home\")) \\\n",
    "                    .drop(columns=[\"Team\"]) \\\n",
    "                    .merge(eredivise_data, left_on=\"Away Team\", right_on=\"Team\", how=\"left\", suffixes=(\"\", \"_Away\")) \\\n",
    "                    .drop(columns=[\"Team\"])\n",
    "\n",
    "laliga_train_data = laliga_fixtures.merge(laliga_data, left_on=\"Home Team\", right_on=\"Team\", how=\"left\", suffixes=(\"\", \"_Home\")) \\\n",
    "                    .drop(columns=[\"Team\"]) \\\n",
    "                    .merge(laliga_data, left_on=\"Away Team\", right_on=\"Team\", how=\"left\", suffixes=(\"\", \"_Away\")) \\\n",
    "                    .drop(columns=[\"Team\"])\n",
    "\n",
    "ligue1_train_data = ligue1_fixtures.merge(ligue1_data, left_on=\"Home Team\", right_on=\"Team\", how=\"left\", suffixes=(\"\", \"_Home\")) \\\n",
    "                    .drop(columns=[\"Team\"]) \\\n",
    "                    .merge(ligue1_data, left_on=\"Away Team\", right_on=\"Team\", how=\"left\", suffixes=(\"\", \"_Away\")) \\\n",
    "                    .drop(columns=[\"Team\"])\n",
    "\n",
    "seriea_train_data = seriea_fixtures.merge(seriea_data, left_on=\"Home Team\", right_on=\"Team\", how=\"left\", suffixes=(\"\", \"_Home\")) \\\n",
    "                    .drop(columns=[\"Team\"]) \\\n",
    "                    .merge(seriea_data, left_on=\"Away Team\", right_on=\"Team\", how=\"left\", suffixes=(\"\", \"_Away\")) \\\n",
    "                    .drop(columns=[\"Team\"])\n",
    "\n",
    "bundesliga_train_data = bundesliga_fixtures.merge(bundesliga_data, left_on=\"Home Team\", right_on=\"Team\", how=\"left\", suffixes=(\"\", \"_Home\")) \\\n",
    "                    .drop(columns=[\"Team\"]) \\\n",
    "                    .merge(bundesliga_data, left_on=\"Away Team\", right_on=\"Team\", how=\"left\", suffixes=(\"\", \"_Away\")) \\\n",
    "                    .drop(columns=[\"Team\"])\n",
    "\n",
    "cl_train_data = cl_fixtures.merge(cl_data, left_on=\"Home Team\", right_on=\"Team\", how=\"left\", suffixes=(\"\", \"_Home\")) \\\n",
    "                    .drop(columns=[\"Team\"]) \\\n",
    "                    .merge(cl_data, left_on=\"Away Team\", right_on=\"Team\", how=\"left\", suffixes=(\"\", \"_Away\")) \\\n",
    "                    .drop(columns=[\"Team\"])"
   ]
  },
  {
   "cell_type": "code",
   "execution_count": 3,
   "metadata": {},
   "outputs": [],
   "source": [
    "pl_train_data.drop(columns=[\"Matchday\", \"Date\"], inplace=True)\n",
    "eredivise_train_data.drop(columns=[\"Matchday\", \"Date\"], inplace=True)\n",
    "laliga_train_data.drop(columns=[\"Matchday\", \"Date\"], inplace=True)\n",
    "ligue1_train_data.drop(columns=[\"Matchday\", \"Date\"], inplace=True)\n",
    "seriea_train_data.drop(columns=[\"Matchday\", \"Date\"], inplace=True)\n",
    "bundesliga_train_data.drop(columns=[\"Matchday\", \"Date\"], inplace=True)\n",
    "cl_train_data.drop(columns=[\"Matchday\", \"Date\"], inplace=True)"
   ]
  },
  {
   "cell_type": "code",
   "execution_count": 4,
   "metadata": {},
   "outputs": [],
   "source": [
    "pl_train_data.dropna(subset=[\"Home Score\", \"Away Score\"], inplace=True)\n",
    "eredivise_train_data.dropna(subset=[\"Home Score\", \"Away Score\"], inplace=True)\n",
    "laliga_train_data.dropna(subset=[\"Home Score\", \"Away Score\"], inplace=True)\n",
    "ligue1_train_data.dropna(subset=[\"Home Score\", \"Away Score\"], inplace=True)\n",
    "seriea_train_data.dropna(subset=[\"Home Score\", \"Away Score\"], inplace=True)\n",
    "bundesliga_train_data.dropna(subset=[\"Home Score\", \"Away Score\"], inplace=True)\n",
    "cl_train_data.dropna(subset=[\"Home Score\", \"Away Score\"], inplace=True)"
   ]
  },
  {
   "cell_type": "code",
   "execution_count": 7,
   "metadata": {},
   "outputs": [
    {
     "name": "stdout",
     "output_type": "stream",
     "text": [
      "<class 'pandas.core.frame.DataFrame'>\n",
      "Index: 261 entries, 0 to 260\n",
      "Data columns (total 56 columns):\n",
      " #   Column                       Non-Null Count  Dtype  \n",
      "---  ------                       --------------  -----  \n",
      " 0   Home Team                    261 non-null    object \n",
      " 1   Away Team                    261 non-null    object \n",
      " 2   Home Score                   261 non-null    float64\n",
      " 3   Away Score                   261 non-null    float64\n",
      " 4   Position                     261 non-null    int64  \n",
      " 5   Played                       261 non-null    int64  \n",
      " 6   Won                          261 non-null    int64  \n",
      " 7   Lost                         261 non-null    int64  \n",
      " 8   Points                       261 non-null    int64  \n",
      " 9   Goals For                    261 non-null    int64  \n",
      " 10  Goals Against                261 non-null    int64  \n",
      " 11  Goal Difference              261 non-null    int64  \n",
      " 12  Power Score                  261 non-null    float64\n",
      " 13  Home Played                  261 non-null    int64  \n",
      " 14  Home Wins                    261 non-null    int64  \n",
      " 15  Home Losses                  261 non-null    int64  \n",
      " 16  Home GF                      261 non-null    int64  \n",
      " 17  Home GA                      261 non-null    int64  \n",
      " 18  Away Played                  261 non-null    int64  \n",
      " 19  Away Wins                    261 non-null    int64  \n",
      " 20  Away Losses                  261 non-null    int64  \n",
      " 21  Away GF                      261 non-null    int64  \n",
      " 22  Away GA                      261 non-null    int64  \n",
      " 23  Form Score (Last 5)          261 non-null    float64\n",
      " 24  Home Strength                261 non-null    float64\n",
      " 25  Away Strength                261 non-null    float64\n",
      " 26  Goal Per Point               261 non-null    float64\n",
      " 27  Attacking Strenght           261 non-null    float64\n",
      " 28  Defense Strength             261 non-null    float64\n",
      " 29  Normalized Power Score       261 non-null    float64\n",
      " 30  Position_Away                261 non-null    int64  \n",
      " 31  Played_Away                  261 non-null    int64  \n",
      " 32  Won_Away                     261 non-null    int64  \n",
      " 33  Lost_Away                    261 non-null    int64  \n",
      " 34  Points_Away                  261 non-null    int64  \n",
      " 35  Goals For_Away               261 non-null    int64  \n",
      " 36  Goals Against_Away           261 non-null    int64  \n",
      " 37  Goal Difference_Away         261 non-null    int64  \n",
      " 38  Power Score_Away             261 non-null    float64\n",
      " 39  Home Played_Away             261 non-null    int64  \n",
      " 40  Home Wins_Away               261 non-null    int64  \n",
      " 41  Home Losses_Away             261 non-null    int64  \n",
      " 42  Home GF_Away                 261 non-null    int64  \n",
      " 43  Home GA_Away                 261 non-null    int64  \n",
      " 44  Away Played_Away             261 non-null    int64  \n",
      " 45  Away Wins_Away               261 non-null    int64  \n",
      " 46  Away Losses_Away             261 non-null    int64  \n",
      " 47  Away GF_Away                 261 non-null    int64  \n",
      " 48  Away GA_Away                 261 non-null    int64  \n",
      " 49  Form Score (Last 5)_Away     261 non-null    float64\n",
      " 50  Home Strength_Away           261 non-null    float64\n",
      " 51  Away Strength_Away           261 non-null    float64\n",
      " 52  Goal Per Point_Away          261 non-null    float64\n",
      " 53  Attacking Strenght_Away      261 non-null    float64\n",
      " 54  Defense Strength_Away        261 non-null    float64\n",
      " 55  Normalized Power Score_Away  261 non-null    float64\n",
      "dtypes: float64(18), int64(36), object(2)\n",
      "memory usage: 116.2+ KB\n"
     ]
    }
   ],
   "source": [
    "pl_train_data.info()"
   ]
  },
  {
   "cell_type": "code",
   "execution_count": 5,
   "metadata": {},
   "outputs": [],
   "source": [
    "pl_train_data.to_csv(\"data/premier_league_train.csv\", index=False)\n",
    "eredivise_train_data.to_csv(\"data/eredivise_train.csv\", index=False)\n",
    "laliga_train_data.to_csv(\"data/laliga_train.csv\", index=False)\n",
    "ligue1_train_data.to_csv(\"data/ligue1_train.csv\", index=False)\n",
    "seriea_train_data.to_csv(\"data/seriea_train.csv\", index=False)\n",
    "bundesliga_train_data.to_csv(\"data/bundesliga_train.csv\", index=False)\n",
    "cl_train_data.to_csv(\"data/cl_train.csv\", index=False)"
   ]
  }
 ],
 "metadata": {
  "kernelspec": {
   "display_name": "base",
   "language": "python",
   "name": "python3"
  },
  "language_info": {
   "codemirror_mode": {
    "name": "ipython",
    "version": 3
   },
   "file_extension": ".py",
   "mimetype": "text/x-python",
   "name": "python",
   "nbconvert_exporter": "python",
   "pygments_lexer": "ipython3",
   "version": "3.12.3"
  }
 },
 "nbformat": 4,
 "nbformat_minor": 2
}
